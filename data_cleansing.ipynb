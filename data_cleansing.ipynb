{
 "cells": [
  {
   "cell_type": "code",
   "execution_count": 2,
   "id": "2821e8ee",
   "metadata": {},
   "outputs": [],
   "source": [
    "import numpy as np\n",
    "import pandas as pd\n",
    "import matplotlib.pyplot as plt\n",
    "import seaborn as sns\n"
   ]
  },
  {
   "cell_type": "code",
   "execution_count": 4,
   "id": "4f8d680e",
   "metadata": {},
   "outputs": [
    {
     "name": "stdout",
     "output_type": "stream",
     "text": [
      "  Product       date  Sales Price Discount (%)  In-Store Promo  \\\n",
      "0    SKU1   2/5/2017  27750                 0%               0   \n",
      "1    SKU1  2/12/2017  29023                 0%               1   \n",
      "2    SKU1  2/19/2017  45630                17%               0   \n",
      "3    SKU1  2/26/2017  26789                 0%               1   \n",
      "4    SKU1   3/5/2017  41999                17%               0   \n",
      "\n",
      "   Catalogue Promo  Store End Promo  Google_Mobility  Covid_Flag  V_DAY  \\\n",
      "0                0                0              0.0           0      0   \n",
      "1                0                1              0.0           0      1   \n",
      "2                0                0              0.0           0      0   \n",
      "3                0                1              0.0           0      0   \n",
      "4                0                0              0.0           0      0   \n",
      "\n",
      "   EASTER  CHRISTMAS  \n",
      "0       0          0  \n",
      "1       0          0  \n",
      "2       0          0  \n",
      "3       0          0  \n",
      "4       0          0  \n"
     ]
    }
   ],
   "source": [
    "forecasting_df = pd.read_csv(\"https://raw.githubusercontent.com/Impact026/Data-Forecasting-project/refs/heads/main/forecasting_case_study.xlsx%20-%20Sheet1.csv\")\n",
    "print(forecasting_df.head())"
   ]
  },
  {
   "cell_type": "code",
   "execution_count": 5,
   "id": "a0a17eeb",
   "metadata": {},
   "outputs": [
    {
     "name": "stdout",
     "output_type": "stream",
     "text": [
      "Index(['Product', 'date', 'Sales', 'Price Discount (%)', 'In-Store Promo',\n",
      "       'Catalogue Promo', 'Store End Promo', 'Google_Mobility', 'Covid_Flag',\n",
      "       'V_DAY', 'EASTER', 'CHRISTMAS'],\n",
      "      dtype='object')\n"
     ]
    }
   ],
   "source": [
    "print(forecasting_df.columns)"
   ]
  },
  {
   "cell_type": "code",
   "execution_count": 6,
   "id": "fe1ee1a6",
   "metadata": {},
   "outputs": [
    {
     "name": "stdout",
     "output_type": "stream",
     "text": [
      "<class 'pandas.core.frame.DataFrame'>\n",
      "RangeIndex: 1218 entries, 0 to 1217\n",
      "Data columns (total 12 columns):\n",
      " #   Column              Non-Null Count  Dtype  \n",
      "---  ------              --------------  -----  \n",
      " 0   Product             1218 non-null   object \n",
      " 1   date                1218 non-null   object \n",
      " 2   Sales               1218 non-null   int64  \n",
      " 3   Price Discount (%)  1218 non-null   object \n",
      " 4   In-Store Promo      1218 non-null   int64  \n",
      " 5   Catalogue Promo     1218 non-null   int64  \n",
      " 6   Store End Promo     1218 non-null   int64  \n",
      " 7   Google_Mobility     1218 non-null   float64\n",
      " 8   Covid_Flag          1218 non-null   int64  \n",
      " 9   V_DAY               1218 non-null   int64  \n",
      " 10  EASTER              1218 non-null   int64  \n",
      " 11  CHRISTMAS           1218 non-null   int64  \n",
      "dtypes: float64(1), int64(8), object(3)\n",
      "memory usage: 114.3+ KB\n",
      "None\n"
     ]
    }
   ],
   "source": [
    "print(forecasting_df.info())"
   ]
  },
  {
   "cell_type": "code",
   "execution_count": 7,
   "id": "a14f487e",
   "metadata": {},
   "outputs": [],
   "source": [
    "# Convert date to datetime\n",
    "forecasting_df[\"date\"] = pd.to_datetime(forecasting_df[\"date\"])"
   ]
  },
  {
   "cell_type": "code",
   "execution_count": 8,
   "id": "750b0410",
   "metadata": {},
   "outputs": [],
   "source": [
    "# Convert Price Discount (%) to numeric, removing the % sign\n",
    "forecasting_df[\"Price Discount (%)\"] = forecasting_df[\"Price Discount (%)\"].str.rstrip(\"%\").astype(\"float\")/100.0"
   ]
  },
  {
   "cell_type": "code",
   "execution_count": 18,
   "id": "6a770606",
   "metadata": {},
   "outputs": [
    {
     "name": "stdout",
     "output_type": "stream",
     "text": [
      "<class 'pandas.core.frame.DataFrame'>\n",
      "RangeIndex: 1218 entries, 0 to 1217\n",
      "Data columns (total 12 columns):\n",
      " #   Column              Non-Null Count  Dtype         \n",
      "---  ------              --------------  -----         \n",
      " 0   Product             1218 non-null   object        \n",
      " 1   date                1218 non-null   datetime64[ns]\n",
      " 2   Sales               1218 non-null   int64         \n",
      " 3   Price Discount (%)  1218 non-null   float64       \n",
      " 4   In-Store Promo      1218 non-null   int64         \n",
      " 5   Catalogue Promo     1218 non-null   int64         \n",
      " 6   Store End Promo     1218 non-null   int64         \n",
      " 7   Google_Mobility     1218 non-null   float64       \n",
      " 8   Covid_Flag          1218 non-null   int64         \n",
      " 9   V_DAY               1218 non-null   int64         \n",
      " 10  EASTER              1218 non-null   int64         \n",
      " 11  CHRISTMAS           1218 non-null   int64         \n",
      "dtypes: datetime64[ns](1), float64(2), int64(8), object(1)\n",
      "memory usage: 114.3+ KB\n",
      "None\n"
     ]
    }
   ],
   "source": [
    "print(forecasting_df.info())"
   ]
  },
  {
   "cell_type": "code",
   "execution_count": 10,
   "id": "62e9a144",
   "metadata": {},
   "outputs": [
    {
     "name": "stdout",
     "output_type": "stream",
     "text": [
      "                                date          Sales  Price Discount (%)  \\\n",
      "count                           1218    1218.000000         1218.000000   \n",
      "mean   2019-01-13 02:04:08.275862016   30294.678982            0.251043   \n",
      "min              2017-02-05 00:00:00       0.000000            0.000000   \n",
      "25%              2018-01-21 00:00:00    7212.750000            0.020000   \n",
      "50%              2019-01-13 00:00:00   19742.000000            0.250000   \n",
      "75%              2020-01-05 00:00:00   40282.250000            0.400000   \n",
      "max              2020-12-27 00:00:00  288322.000000            0.830000   \n",
      "std                              NaN   35032.527297            0.215494   \n",
      "\n",
      "       In-Store Promo  Catalogue Promo  Store End Promo  Google_Mobility  \\\n",
      "count     1218.000000      1218.000000      1218.000000      1218.000000   \n",
      "mean         0.472085         0.212644         0.348933        -2.377406   \n",
      "min          0.000000         0.000000         0.000000       -28.490000   \n",
      "25%          0.000000         0.000000         0.000000         0.000000   \n",
      "50%          0.000000         0.000000         0.000000         0.000000   \n",
      "75%          1.000000         0.000000         1.000000         0.000000   \n",
      "max          1.000000         1.000000         1.000000         3.900000   \n",
      "std          0.499425         0.409346         0.476828         5.806291   \n",
      "\n",
      "        Covid_Flag        V_DAY       EASTER    CHRISTMAS  \n",
      "count  1218.000000  1218.000000  1218.000000  1218.000000  \n",
      "mean      0.226601     0.019704     0.019704     0.018883  \n",
      "min       0.000000     0.000000     0.000000     0.000000  \n",
      "25%       0.000000     0.000000     0.000000     0.000000  \n",
      "50%       0.000000     0.000000     0.000000     0.000000  \n",
      "75%       0.000000     0.000000     0.000000     0.000000  \n",
      "max       1.000000     1.000000     1.000000     1.000000  \n",
      "std       0.418804     0.139040     0.139040     0.136169  \n"
     ]
    }
   ],
   "source": [
    "#Display Basis Statistics\n",
    "print(forecasting_df.describe())"
   ]
  },
  {
   "cell_type": "code",
   "execution_count": 11,
   "id": "6e075ca7",
   "metadata": {},
   "outputs": [
    {
     "name": "stdout",
     "output_type": "stream",
     "text": [
      "\n",
      " Missing Values:\n",
      "Product               0\n",
      "date                  0\n",
      "Sales                 0\n",
      "Price Discount (%)    0\n",
      "In-Store Promo        0\n",
      "Catalogue Promo       0\n",
      "Store End Promo       0\n",
      "Google_Mobility       0\n",
      "Covid_Flag            0\n",
      "V_DAY                 0\n",
      "EASTER                0\n",
      "CHRISTMAS             0\n",
      "dtype: int64\n"
     ]
    }
   ],
   "source": [
    "#Check for missing values\n",
    "print(\"\\n Missing Values:\")\n",
    "print(forecasting_df.isnull().sum())"
   ]
  },
  {
   "cell_type": "code",
   "execution_count": 12,
   "id": "5f4931c0",
   "metadata": {},
   "outputs": [
    {
     "data": {
      "image/png": "[encoded data removed]",
      "text/plain": [
       "<Figure size 800x600 with 1 Axes>"
      ]
     },
     "metadata": {},
     "output_type": "display_data"
    }
   ],
   "source": [
    "# Check for missing outliers in Sales:\n",
    "plt.figure(figsize=(8, 6))\n",
    "sns.boxplot(x= \"Product\", y= \"Sales\", data = forecasting_df)\n",
    "plt.title(\"Sales Distribution by Product\")\n",
    "plt.show()"
   ]
  },
  {
   "cell_type": "code",
   "execution_count": 13,
   "id": "7eb33b01",
   "metadata": {},
   "outputs": [],
   "source": [
    "# Handling Outliers\n",
    "from scipy import stats\n",
    "forecasting_df[\"Sales\"] = forecasting_df.groupby(\"Product\")[\"Sales\"].transform(lambda x: stats.mstats.winsorize(x, limits=[0.05, 0.05]))\n"
   ]
  },
  {
   "cell_type": "markdown",
   "id": "f5d14416",
   "metadata": {},
   "source": [
    "There are no missing data in the Forecast Spreadsheet, so there's no need to perform a task to deal with missing data for the Sales. However, if there were missing data, this is what I would do:"
   ]
  },
  {
   "cell_type": "code",
   "execution_count": 16,
   "id": "c31c4263",
   "metadata": {},
   "outputs": [],
   "source": [
    "# Handling missing values:\n",
    "forecasting_df[\"Sales\"] = forecasting_df[\"Sales\"].fillna(forecasting_df.groupby(\"Product\")[\"Sales\"].transform(\"mean\"))"
   ]
  },
  {
   "cell_type": "markdown",
   "id": "6db40944",
   "metadata": {},
   "source": [
    "Additionally, we could use these techniques to deal with Missing Values and Outliers"
   ]
  },
  {
   "cell_type": "code",
   "execution_count": 20,
   "id": "80b2e6de",
   "metadata": {},
   "outputs": [
    {
     "name": "stdout",
     "output_type": "stream",
     "text": [
      "Data after Median Imputation:\n",
      "     Product       date   Sales  Price Discount (%)  In-Store Promo  \\\n",
      "0       SKU1 2017-02-05   27750                0.00               0   \n",
      "1       SKU1 2017-02-12   29023                0.00               1   \n",
      "2       SKU1 2017-02-19   45630                0.17               0   \n",
      "3       SKU1 2017-02-26   26789                0.00               1   \n",
      "4       SKU1 2017-03-05   41999                0.17               0   \n",
      "...      ...        ...     ...                 ...             ...   \n",
      "1213    SKU6 2020-10-18   96619                0.54               0   \n",
      "1214    SKU6 2020-10-25  115798                0.52               0   \n",
      "1215    SKU6 2020-11-01  131072                0.54               1   \n",
      "1216    SKU6 2020-11-08   26445                0.44               1   \n",
      "1217    SKU6 2020-11-15   26414                0.44               0   \n",
      "\n",
      "      Catalogue Promo  Store End Promo  Google_Mobility  Covid_Flag  V_DAY  \\\n",
      "0                   0                0             0.00           0      0   \n",
      "1                   0                1             0.00           0      1   \n",
      "2                   0                0             0.00           0      0   \n",
      "3                   0                1             0.00           0      0   \n",
      "4                   0                0             0.00           0      0   \n",
      "...               ...              ...              ...         ...    ...   \n",
      "1213                1                0            -7.56           1      0   \n",
      "1214                1                0            -8.39           1      0   \n",
      "1215                0                1            -7.43           1      0   \n",
      "1216                0                1            -5.95           1      0   \n",
      "1217                0                0            -7.20           1      0   \n",
      "\n",
      "      EASTER  CHRISTMAS  \n",
      "0          0          0  \n",
      "1          0          0  \n",
      "2          0          0  \n",
      "3          0          0  \n",
      "4          0          0  \n",
      "...      ...        ...  \n",
      "1213       0          0  \n",
      "1214       0          0  \n",
      "1215       0          0  \n",
      "1216       0          0  \n",
      "1217       0          0  \n",
      "\n",
      "[1218 rows x 12 columns]\n"
     ]
    }
   ],
   "source": [
    "# Fill missing values in 'Sales' column with the median of the respective 'Product'\n",
    "forecasting_df['Sales'] = forecasting_df.groupby('Product')['Sales'].transform(lambda x: x.fillna(x.median()))\n",
    "\n",
    "# Fill missing values in 'Price Discount (%)' column with the overall median (or per group)\n",
    "forecasting_df['Price Discount (%)'] = forecasting_df['Price Discount (%)'].fillna(forecasting_df['Price Discount (%)'].median())\n",
    "\n",
    "# Display the DataFrame after median imputation\n",
    "print(\"Data after Median Imputation:\")\n",
    "print(forecasting_df)"
   ]
  },
  {
   "cell_type": "code",
   "execution_count": 22,
   "id": "7d05a80b",
   "metadata": {},
   "outputs": [
    {
     "name": "stdout",
     "output_type": "stream",
     "text": [
      "\n",
      "Outliers detected using Z-Score:\n",
      "     Product       date   Sales  Price Discount (%)  In-Store Promo  \\\n",
      "421     SKU3 2017-05-07  189965                0.50               1   \n",
      "426     SKU3 2017-06-11  189965                0.50               1   \n",
      "437     SKU3 2017-08-27  189965                0.50               1   \n",
      "447     SKU3 2017-11-05  189965                0.50               1   \n",
      "478     SKU3 2018-06-10  189965                0.50               1   \n",
      "494     SKU3 2018-09-30  189965                0.50               1   \n",
      "514     SKU3 2019-02-17  189965                0.50               1   \n",
      "530     SKU3 2019-06-09  189965                0.55               1   \n",
      "540     SKU3 2019-08-18  189965                0.52               1   \n",
      "546     SKU3 2019-09-29  189965                0.54               1   \n",
      "552     SKU3 2019-11-10  182891                0.49               1   \n",
      "566     SKU3 2020-02-16  187548                0.51               1   \n",
      "588     SKU3 2020-07-19  184365                0.83               1   \n",
      "592     SKU3 2020-08-16  189965                0.83               1   \n",
      "1037    SKU6 2017-06-04  131072                0.53               1   \n",
      "1041    SKU6 2017-07-02  131072                0.53               1   \n",
      "1053    SKU6 2017-09-24  129254                0.53               0   \n",
      "1057    SKU6 2017-10-22  131072                0.53               0   \n",
      "1058    SKU6 2017-10-29  131072                0.53               1   \n",
      "1089    SKU6 2018-06-03  128647                0.53               1   \n",
      "1105    SKU6 2018-09-23  127468                0.53               1   \n",
      "1109    SKU6 2018-10-21  131072                0.53               1   \n",
      "1110    SKU6 2018-10-28  131072                0.53               1   \n",
      "1161    SKU6 2019-10-20  131072                0.53               0   \n",
      "1162    SKU6 2019-10-27  131072                0.53               0   \n",
      "1163    SKU6 2019-11-03  131072                0.53               1   \n",
      "1215    SKU6 2020-11-01  131072                0.54               1   \n",
      "\n",
      "      Catalogue Promo  Store End Promo  Google_Mobility  Covid_Flag  V_DAY  \\\n",
      "421                 0                0             0.00           0      0   \n",
      "426                 0                1             0.00           0      0   \n",
      "437                 0                1             0.00           0      0   \n",
      "447                 0                1             0.00           0      0   \n",
      "478                 0                1             0.00           0      0   \n",
      "494                 0                1             0.00           0      0   \n",
      "514                 0                1             0.00           0      0   \n",
      "530                 0                0             0.00           0      0   \n",
      "540                 0                1             0.00           0      0   \n",
      "546                 0                1             0.00           0      0   \n",
      "552                 0                1             0.00           0      0   \n",
      "566                 0                1             3.30           1      1   \n",
      "588                 0                0            -8.77           1      0   \n",
      "592                 0                1           -20.35           1      0   \n",
      "1037                0                1             0.00           0      0   \n",
      "1041                0                1             0.00           0      0   \n",
      "1053                0                0             0.00           0      0   \n",
      "1057                1                1             0.00           0      0   \n",
      "1058                0                0             0.00           0      0   \n",
      "1089                0                0             0.00           0      0   \n",
      "1105                0                1             0.00           0      0   \n",
      "1109                0                0             0.00           0      0   \n",
      "1110                0                1             0.00           0      0   \n",
      "1161                1                0             0.00           0      0   \n",
      "1162                1                1             0.00           0      0   \n",
      "1163                0                1             0.00           0      0   \n",
      "1215                0                1            -7.43           1      0   \n",
      "\n",
      "      EASTER  CHRISTMAS  Sales_zscore Outlier  \n",
      "421        0          0      5.181011     Yes  \n",
      "426        0          0      5.181011     Yes  \n",
      "437        0          0      5.181011     Yes  \n",
      "447        0          0      5.181011     Yes  \n",
      "478        0          0      5.181011     Yes  \n",
      "494        0          0      5.181011     Yes  \n",
      "514        0          0      5.181011     Yes  \n",
      "530        0          0      5.181011     Yes  \n",
      "540        0          0      5.181011     Yes  \n",
      "546        0          0      5.181011     Yes  \n",
      "552        0          0      4.952594     Yes  \n",
      "566        0          0      5.102967     Yes  \n",
      "588        0          0      5.000189     Yes  \n",
      "592        0          0      5.181011     Yes  \n",
      "1037       0          0      3.279377     Yes  \n",
      "1041       0          0      3.279377     Yes  \n",
      "1053       0          0      3.220674     Yes  \n",
      "1057       0          0      3.279377     Yes  \n",
      "1058       0          0      3.279377     Yes  \n",
      "1089       0          0      3.201075     Yes  \n",
      "1105       0          0      3.163005     Yes  \n",
      "1109       0          0      3.279377     Yes  \n",
      "1110       0          0      3.279377     Yes  \n",
      "1161       0          0      3.279377     Yes  \n",
      "1162       0          0      3.279377     Yes  \n",
      "1163       0          0      3.279377     Yes  \n",
      "1215       0          0      3.279377     Yes  \n",
      "\n",
      "Final DataFrame after processing:\n",
      "     Product       date   Sales  Price Discount (%)  In-Store Promo  \\\n",
      "0       SKU1 2017-02-05   27750                0.00               0   \n",
      "1       SKU1 2017-02-12   29023                0.00               1   \n",
      "2       SKU1 2017-02-19   45630                0.17               0   \n",
      "3       SKU1 2017-02-26   26789                0.00               1   \n",
      "4       SKU1 2017-03-05   41999                0.17               0   \n",
      "...      ...        ...     ...                 ...             ...   \n",
      "1213    SKU6 2020-10-18   96619                0.54               0   \n",
      "1214    SKU6 2020-10-25  115798                0.52               0   \n",
      "1215    SKU6 2020-11-01  131072                0.54               1   \n",
      "1216    SKU6 2020-11-08   26445                0.44               1   \n",
      "1217    SKU6 2020-11-15   26414                0.44               0   \n",
      "\n",
      "      Catalogue Promo  Store End Promo  Google_Mobility  Covid_Flag  V_DAY  \\\n",
      "0                   0                0             0.00           0      0   \n",
      "1                   0                1             0.00           0      1   \n",
      "2                   0                0             0.00           0      0   \n",
      "3                   0                1             0.00           0      0   \n",
      "4                   0                0             0.00           0      0   \n",
      "...               ...              ...              ...         ...    ...   \n",
      "1213                1                0            -7.56           1      0   \n",
      "1214                1                0            -8.39           1      0   \n",
      "1215                0                1            -7.43           1      0   \n",
      "1216                0                1            -5.95           1      0   \n",
      "1217                0                0            -7.20           1      0   \n",
      "\n",
      "      EASTER  CHRISTMAS  \n",
      "0          0          0  \n",
      "1          0          0  \n",
      "2          0          0  \n",
      "3          0          0  \n",
      "4          0          0  \n",
      "...      ...        ...  \n",
      "1213       0          0  \n",
      "1214       0          0  \n",
      "1215       0          0  \n",
      "1216       0          0  \n",
      "1217       0          0  \n",
      "\n",
      "[1218 rows x 12 columns]\n"
     ]
    }
   ],
   "source": [
    "# Calculate z-scores for the 'Sales' column\n",
    "forecasting_df['Sales_zscore'] = stats.zscore(forecasting_df['Sales'])\n",
    "\n",
    "# Define a threshold for outlier detection (e.g., z-score greater than 3 or less than -3)\n",
    "threshold = 3\n",
    "forecasting_df['Outlier'] = np.where((forecasting_df['Sales_zscore'] > threshold) | (forecasting_df['Sales_zscore'] < -threshold), 'Yes', 'No')\n",
    "\n",
    "# Display the rows where outliers are detected\n",
    "outliers = forecasting_df[forecasting_df['Outlier'] == 'Yes']\n",
    "print(\"\\nOutliers detected using Z-Score:\")\n",
    "print(outliers)\n",
    "\n",
    "# Remove z-score and outlier columns for a clean display\n",
    "forecasting_df = forecasting_df.drop(columns=['Sales_zscore', 'Outlier'])\n",
    "\n",
    "# Final DataFrame\n",
    "print(\"\\nFinal DataFrame after processing:\")\n",
    "print(forecasting_df)"
   ]
  },
  {
   "cell_type": "code",
   "execution_count": null,
   "id": "7967d5a3",
   "metadata": {},
   "outputs": [],
   "source": []
  }
 ],
 "metadata": {
  "kernelspec": {
   "display_name": "Python 3 (ipykernel)",
   "language": "python",
   "name": "python3"
  },
  "language_info": {
   "codemirror_mode": {
    "name": "ipython",
    "version": 3
   },
   "file_extension": ".py",
   "mimetype": "text/x-python",
   "name": "python",
   "nbconvert_exporter": "python",
   "pygments_lexer": "ipython3",
   "version": "3.10.9"
  }
 },
 "nbformat": 4,
 "nbformat_minor": 5
}
